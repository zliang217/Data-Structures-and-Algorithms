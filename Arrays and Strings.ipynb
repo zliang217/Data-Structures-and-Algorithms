{
 "cells": [
  {
   "cell_type": "markdown",
   "metadata": {},
   "source": [
    "# Arrays and Strings"
   ]
  },
  {
   "cell_type": "markdown",
   "metadata": {},
   "source": [
    "## Two Pointers\n",
    "- It involves having two integer variables that both move along an iterable. "
   ]
  },
  {
   "cell_type": "code",
   "execution_count": 1,
   "metadata": {},
   "outputs": [],
   "source": [
    "#Example 1: Checking Palindromes\n",
    "\n",
    "def check_if_palindrome(s):\n",
    "    left = 0\n",
    "    right = len(s) - 1\n",
    "\n",
    "    while left < right:\n",
    "        if s[left] != s[right]:\n",
    "            return False\n",
    "        left += 1\n",
    "        right -= 1\n",
    "    \n",
    "    return True"
   ]
  },
  {
   "cell_type": "code",
   "execution_count": 2,
   "metadata": {},
   "outputs": [],
   "source": [
    "#Example 2: Two Sum\n",
    "\n",
    "def check_for_target(nums, target):\n",
    "    left = 0\n",
    "    right = len(nums) - 1\n",
    "\n",
    "    while left < right:\n",
    "        # curr is the current sum\n",
    "        curr = nums[left] + nums[right]\n",
    "        if curr == target:\n",
    "            return True\n",
    "        if curr > target:\n",
    "            right -= 1\n",
    "        else:\n",
    "            left += 1\n",
    "    \n",
    "    return False"
   ]
  },
  {
   "cell_type": "code",
   "execution_count": null,
   "metadata": {},
   "outputs": [],
   "source": []
  }
 ],
 "metadata": {
  "kernelspec": {
   "display_name": "Python 3",
   "language": "python",
   "name": "python3"
  },
  "language_info": {
   "codemirror_mode": {
    "name": "ipython",
    "version": 3
   },
   "file_extension": ".py",
   "mimetype": "text/x-python",
   "name": "python",
   "nbconvert_exporter": "python",
   "pygments_lexer": "ipython3",
   "version": "3.9.6"
  }
 },
 "nbformat": 4,
 "nbformat_minor": 2
}
