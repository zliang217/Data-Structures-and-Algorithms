{
 "cells": [
  {
   "cell_type": "markdown",
   "metadata": {},
   "source": [
    "# Introduction"
   ]
  },
  {
   "cell_type": "markdown",
   "metadata": {},
   "source": [
    "## Time Complexity and Space Complexity\n",
    "The time complexity of an algorithm is the amount of time the algorithm needs to run relative to the input size. The space complexity of an algorithm is the amount of memory allocated by the algorithm when run relative to the input size.\n",
    "\n",
    "### Time Complexity\n",
    "- Logarithmic Time\n",
    "    - It is considered extremely fast\n",
    "    - Binary search has time complexity $O(\\log n)$\n",
    "\n",
    "\n",
    "### Space Complexity\n",
    "When one initializes variables like arrays or strings, the algorithm is allocating memory. Space complexity depends on the size of variables we initialize."
   ]
  },
  {
   "cell_type": "markdown",
   "metadata": {},
   "source": [
    "## Recursion\n",
    "In code, recursion is implemented using a function that calls itself.\n",
    "- We need what is called a base case to make the recursion stop. \n"
   ]
  }
 ],
 "metadata": {
  "language_info": {
   "name": "python"
  }
 },
 "nbformat": 4,
 "nbformat_minor": 2
}
